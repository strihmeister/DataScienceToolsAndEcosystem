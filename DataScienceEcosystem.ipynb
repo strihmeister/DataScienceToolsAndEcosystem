{
 "cells": [
  {
   "cell_type": "markdown",
   "id": "6d74c6bd-d8a9-4fa1-9926-bb335c6eac9e",
   "metadata": {},
   "source": [
    "# Data Science Tools and Ecosystem"
   ]
  },
  {
   "cell_type": "markdown",
   "id": "a7e451c3-193c-4ac3-a341-c7109ba98370",
   "metadata": {},
   "source": [
    "In this notebook, Data Science Tools and Ecosystem are summarized."
   ]
  },
  {
   "cell_type": "markdown",
   "id": "e065e75f-5e66-4205-bb19-f1fbbd6522f5",
   "metadata": {},
   "source": [
    "**Objectives:**\n",
    "\n",
    "   - Popular languages used in Data Science\n",
    "   - Commonly used libraries in Data Science\n",
    "   - Data Science development environment"
   ]
  },
  {
   "cell_type": "markdown",
   "id": "9c9cba3e-faeb-43c9-aceb-7ba93850733d",
   "metadata": {},
   "source": [
    "Some of the popular languages that Data Scientists use are:\n",
    "\n",
    "    1. Python\n",
    "    2. R\n",
    "    3. SQL\n",
    "    4. Java\n",
    "    5. Scala\n",
    "    6. C++\n",
    "    7. Javascript\n",
    "    8. Julia"
   ]
  },
  {
   "cell_type": "markdown",
   "id": "533fa4c5-4f4f-4081-b3a6-a1f626f7d87f",
   "metadata": {},
   "source": [
    "Some of the commonly used libraries used by Data Scientists include:\n",
    "\n",
    "    1. Pandas\n",
    "    2. Numpy\n",
    "    3. Matplotlib\n",
    "    4. Seaborn\n",
    "    5. Scikit-learn\n",
    "    6. Keras\n",
    "    7. Tensorflow\n",
    "    8. Pytorch"
   ]
  },
  {
   "cell_type": "markdown",
   "id": "b286e987-063d-4489-9e90-dff6a67e6ffb",
   "metadata": {},
   "source": [
    "|Data Science Tools|\n",
    "--------------------\n",
    "| Jupyter Notebook|\n",
    "| R Studio |\n",
    "| Apache Spark|\n"
   ]
  },
  {
   "cell_type": "markdown",
   "id": "7aef52d1-4a40-4ad9-8592-4b11d5215ebe",
   "metadata": {},
   "source": [
    "### Below are a few examples of evaluating arithmetic expressions in Python"
   ]
  },
  {
   "cell_type": "code",
   "execution_count": 2,
   "id": "5d483855-74ed-426c-abc4-285d92fcb6f2",
   "metadata": {},
   "outputs": [
    {
     "data": {
      "text/plain": [
       "17"
      ]
     },
     "execution_count": 2,
     "metadata": {},
     "output_type": "execute_result"
    }
   ],
   "source": [
    "# This is a simple arithmetic expression to multiply then add integers\n",
    "(3*4)+5"
   ]
  },
  {
   "cell_type": "code",
   "execution_count": 4,
   "id": "084b490b-0858-451c-bac3-cc6b2cfb8856",
   "metadata": {},
   "outputs": [
    {
     "name": "stdout",
     "output_type": "stream",
     "text": [
      "3.3333333333333335\n"
     ]
    }
   ],
   "source": [
    "# This will convert 200 minutes to hours by dividing by 60\n",
    "minutes = 200\n",
    "hours = 200/60\n",
    "print(hours)"
   ]
  },
  {
   "cell_type": "markdown",
   "id": "9aaee3b7-cb00-4a78-a696-541eae2d48fa",
   "metadata": {},
   "source": [
    "## Author\n",
    "Roman Střihavka"
   ]
  },
  {
   "cell_type": "code",
   "execution_count": null,
   "id": "b2d27d0c-45c3-47b0-a593-bd61fcd53b2f",
   "metadata": {},
   "outputs": [],
   "source": []
  }
 ],
 "metadata": {
  "kernelspec": {
   "display_name": "Python 3 (ipykernel)",
   "language": "python",
   "name": "python3"
  },
  "language_info": {
   "codemirror_mode": {
    "name": "ipython",
    "version": 3
   },
   "file_extension": ".py",
   "mimetype": "text/x-python",
   "name": "python",
   "nbconvert_exporter": "python",
   "pygments_lexer": "ipython3",
   "version": "3.9.13"
  }
 },
 "nbformat": 4,
 "nbformat_minor": 5
}
